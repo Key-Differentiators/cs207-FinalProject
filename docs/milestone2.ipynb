{
 "cells": [
  {
   "cell_type": "markdown",
   "metadata": {},
   "source": [
    "# Milestone 1"
   ]
  },
  {
   "cell_type": "markdown",
   "metadata": {},
   "source": [
    "## Introduction"
   ]
  },
  {
   "cell_type": "markdown",
   "metadata": {},
   "source": [
    "Our goal in this project is to develop a software library for Automatic Differentiation. We will create a useful tool, familiarize ourselves with software development best-practices, and learn how machines perform differentiation.\n",
    "\n",
    "The final deliverable will be an automatic differentiation library in python that is easy to understand, install, and use -- including clear documentation and testing.\n",
    "\n",
    "Beyond the baseline expectation, we intend to extend our project in a specific way: allow for the ingestion of screenshots. \n",
    "\n",
    "The basic automatic differentiation would accept values or vectors to represent the functional inputs. Our teams goal is to build a module on top of our library that accepts an image of a function (ideally a latex or word processor screenshot), runs a basic character recognition library, then parses the text, and uses that as the input to the automatic differentiation library."
   ]
  },
  {
   "cell_type": "markdown",
   "metadata": {},
   "source": [
    "## Background"
   ]
  },
  {
   "cell_type": "markdown",
   "metadata": {},
   "source": [
    "Automatic differentiation is how computers can automatically evaluate derivatives, which comes up in a lot of contexts. The two most obvious approaches to differentiation are symbolic differentiation (applying the rules of variable-level differentiation in software) and numerical differentiation (a finite difference-based approximation of a derivative). \n",
    "\n",
    "The failure of symbolic differentiation is that it can be inefficient in solving high-complexity expressions, yielding long computation times. By contrast, the failure of numerical differentiation is that it can be prone to floating-point error in discretization or suffer from numerical instability.\n",
    "\n",
    "### The Chain Rule\n",
    "In contrast, automatic differentiation applies the chain rule repeatedly to break down arbitrarily complicated differentiation problems into a series of elementary arithmetic operations and elementary functions. \n",
    "\n",
    "$$ F'(x) = f'(g(x))g'(x)$$\n",
    "\n",
    "In a way, a derivative is a local linear approximation of a function. By applying the chain rule, we can break down any derivative solving problem, even with high complexity or a partial derivative with respect to many inputs (e.g. gradient-based optimization) into a sequential composition of functions.  \n",
    "\n",
    "### Graph Structure of Calculations\n",
    "While there are many different ways to conceptualize the process used in automatic differentiation, the one explored in our class involves a graphical representation of the calculation. \n",
    "\n",
    "In the first step, we break down the function into an “evaluation trade,” with a set of xi traces (or intermediary computed variables). For example, in HW4, we broke the function into 13 elementary steps. \n",
    "\n",
    "From there, you can visualize the calculation steps in an “evaluation graph” - simply a graphical representation of the computation elements with edges and notes (similar to a control loop diagram). \n",
    "\n",
    "### Elementary Functions\n",
    "Finally, through each step you evaluate both the trace in terms of the input variable and also compute the derivative using the chain rule. At the end of this process, the final xi trace now is assigned both a value and a derivative that is simply composed of elemental function that are easy for a computer to evaluate. \n",
    "\n",
    "To give some concrete examples, the key elementary arithmetic operations include: addition, subtraction, multiplication, division, etc... and the key elementary functions include: exp, log, sin, cos, etc...\n"
   ]
  },
  {
   "cell_type": "markdown",
   "metadata": {},
   "source": [
    "## How to Use KeyDifferentiator"
   ]
  },
  {
   "cell_type": "markdown",
   "metadata": {
    "collapsed": true
   },
   "source": [
    "### Installation\n",
    "To install the KeyDifferentiator automatic differentiation package, the user should run:\n",
    "```\n",
    "pip install keydifferentiator\n",
    "```\n",
    "Alternatively, the user could download and run the package using the source files on GitHub. Simply run:\n",
    "```\n",
    "git clone git@github.com:Key-Differentiators/cs207-FinalProject.git\n",
    "cd cs207-FinalProject\n",
    "python setup.py\n",
    "```"
   ]
  },
  {
   "cell_type": "markdown",
   "metadata": {},
   "source": [
    "### Getting Started\n",
    "\n",
    "Users interact with our module via a command-line interface. To start the interface, run:\n",
    "```\n",
    "python -m keydifferentiator\n",
    "```\n",
    "The command line will prompt the user to enter a function. The tool only accepts single-variable functions. Here are some examples:\n",
    "```\n",
    "Input your function:   f(x) = 3*x + 4\n",
    "Input your function:   f(x) = cos(x) + x**2\n",
    "Input your function:   f(x) = 3*x + 4\n",
    "Input your function:   f(x) = 3*x**2 + 2*x + 1\n",
    "```\n",
    "Once the user enters a function, the user is prompted to enter a value of x at which to evaluate the derivative. Here is an example:\n",
    "```\n",
    "What value of x would you like to evaluate at? Enter a number: 3\n",
    "```\n",
    "The interface then prints out the values of the function f(x) and the derivative f'(x) at that value of x:\n",
    "```\n",
    "f(x)=34.00, f'(x)=20.00\n",
    "```\n",
    "The user is then prompted to enter another function (if desired)."
   ]
  },
  {
   "cell_type": "markdown",
   "metadata": {},
   "source": [
    "## Software Organization"
   ]
  },
  {
   "cell_type": "markdown",
   "metadata": {},
   "source": [
    "### Directory Structure\n",
    "\n",
    "Our directory structure is outlined below. "
   ]
  },
  {
   "cell_type": "markdown",
   "metadata": {},
   "source": [
    "```\n",
    "/cs207-FinalProject\n",
    "\tREADME.md\n",
    "\tLICENSE\n",
    "    .gitignore\n",
    "    .travis.yml\n",
    "    setup.py\n",
    "    requirements.txt\n",
    "    docs/\n",
    "        milestone1.ipynb\n",
    "        milestone2.ipynb\n",
    "    keydifferentiator/\n",
    "        __init__.py\n",
    "        __main__.py\n",
    "        AD.py\n",
    "        unary.py\n",
    "    tests/\n",
    "        __init__.py\n",
    "        AD_test.py\n",
    "        unary_test.py\n",
    "```"
   ]
  },
  {
   "cell_type": "markdown",
   "metadata": {},
   "source": [
    "- **README.md**: Project documentation, build status, and code coverage.\n",
    "- **LICENCE**: Text of the MIT license.\n",
    "- **.gitignore**: Files to exclude when pushing to GitHub.\n",
    "- **.travis.yml**: Configures the TravisCI build integration.\n",
    "- **setup.py**: Packages the modules into the keydifferentiator package.\n",
    "- **requirements.txt**: Describes version and installation requirements of the build.\n",
    "- **docs/**: Directory containing Milestone 1 and Milestone 2 documentation.\n",
    "- **keydifferentiator/**: \n",
    "    - **__init__.py**: Tells setup.py that this is a package.\n",
    "    - **__main__.py**: Contains the command-line interface for the project.\n",
    "    - **AD.py**: Contains the AD class, and overwrites dual operations for AD objects.\n",
    "    - **unary.py**: Contains a library of unary operations for AD objects.\n",
    "- **tests/**:\n",
    "    - **__init__.py**: Tells setup.py that this is a package.\n",
    "    - **AD_test.py**: Test code for the AD class.\n",
    "    - **unary_test.py**: Test code for the unary function library."
   ]
  },
  {
   "cell_type": "markdown",
   "metadata": {},
   "source": [
    "## Implementation"
   ]
  },
  {
   "cell_type": "markdown",
   "metadata": {},
   "source": [
    "### Under the Hood\n",
    "To implement the forward mode of automatic differentiation, we will create a main class called `AD`. The class will be initiated with two attributes: `val` (for value) and `der` (for derivative), while `val` is required and `der` is optional.\n",
    "```\n",
    "class AD():\n",
    "\tdef __init__(val, der=1):\n",
    "\t\tself.val = val\n",
    "\t\tself.der = der\n",
    "```"
   ]
  },
  {
   "cell_type": "markdown",
   "metadata": {},
   "source": [
    "Standard dunder methods will be re-written within the `AD` class: `__add__`, `__radd__`, `__mul__`, `__rmul__`, `__pow__`, `__sub__`, `__rsub__`, `__truediv__`, `__abs__`.\n",
    "\n",
    "Other elementary functions, like `sin, cos, sqrt, log,` and `exp`, are implemented within a helper library `unary.py`.\n",
    "\n",
    "The `AD` class and `unary` library ."
   ]
  },
  {
   "cell_type": "markdown",
   "metadata": {},
   "source": [
    "### User perspective\n",
    "\n",
    "While it is possible to interact directly with the `AD` library, the user should only ever have to interact with the `easyAD` module, which in turn calls the `AD` module.\n",
    "\n",
    "The user will only ever need one function: `diff()`, which will take a string representation of a function to differentiate.\n",
    "\n",
    "The `easyAD` module will parse the string into an `AD` object, and then call methods in the `AD` module to get the `val` and `der` of the object."
   ]
  },
  {
   "cell_type": "code",
   "execution_count": null,
   "metadata": {
    "collapsed": true
   },
   "outputs": [],
   "source": []
  }
 ],
 "metadata": {
  "kernelspec": {
   "display_name": "Python 3",
   "language": "python",
   "name": "python3"
  },
  "language_info": {
   "codemirror_mode": {
    "name": "ipython",
    "version": 3
   },
   "file_extension": ".py",
   "mimetype": "text/x-python",
   "name": "python",
   "nbconvert_exporter": "python",
   "pygments_lexer": "ipython3",
   "version": "3.6.3"
  }
 },
 "nbformat": 4,
 "nbformat_minor": 2
}
