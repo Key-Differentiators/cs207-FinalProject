{
 "cells": [
  {
   "cell_type": "markdown",
   "metadata": {},
   "source": [
    "# Milestone 1"
   ]
  },
  {
   "cell_type": "markdown",
   "metadata": {},
   "source": [
    "## Introduction"
   ]
  },
  {
   "cell_type": "markdown",
   "metadata": {},
   "source": [
    "Our goal in this project is to develop a software library for Automatic Differentiation. We will create a useful tool, familiarize ourselves with software development best-practices, and learn how machines perform differentiation.\n",
    "\n",
    "The final deliverable will be an automatic differentiation library in python that is easy to understand, install, and use -- including clear documentation and testing.\n",
    "\n",
    "Beyond the baseline expectation, we intend to extend our project in a specific way: allow for the ingestion of screenshots. \n",
    "\n",
    "The basic automatic differentiation would accept values or vectors to represent the functional inputs. Our teams goal is to build a module on top of our library that accepts an image of a function (ideally a latex or word processor screenshot), runs a basic character recognition library, then parses the text, and uses that as the input to the automatic differentiation library."
   ]
  },
  {
   "cell_type": "markdown",
   "metadata": {},
   "source": [
    "## Background"
   ]
  },
  {
   "cell_type": "markdown",
   "metadata": {},
   "source": [
    "Automatic differentiation is how computers can automatically evaluate derivatives, which comes up in a lot of contexts. The two most obvious approaches to differentiation are symbolic differentiation (applying the rules of variable-level differentiation in software) and numerical differentiation (a finite difference-based approximation of a derivative). \n",
    "\n",
    "The failure of symbolic differentiation is that it can be inefficient in solving high-complexity expressions, yielding long computation times. By contrast, the failure of numerical differentiation is that it can be prone to floating-point error in discretization or suffer from numerical instability.\n",
    "\n",
    "### The Chain Rule\n",
    "In contrast, automatic differentiation applies the chain rule repeatedly to break down arbitrarily complicated differentiation problems into a series of elementary arithmetic operations and elementary functions. \n",
    "\n",
    "$$ F'(x) = f'(g(x))g'(x)$$\n",
    "\n",
    "In a way, a derivative is a local linear approximation of a function. By applying the chain rule, we can break down any derivative solving problem, even with high complexity or a partial derivative with respect to many inputs (e.g. gradient-based optimization) into a sequential composition of functions.  \n",
    "\n",
    "### Graph Structure of Calculations\n",
    "While there are many different ways to conceptualize the process used in automatic differentiation, the one explored in our class involves a graphical representation of the calculation. \n",
    "\n",
    "In the first step, we break down the function into an “evaluation trade,” with a set of xi traces (or intermediary computed variables). For example, in HW4, we broke the function into 13 elementary steps. \n",
    "\n",
    "From there, you can visualize the calculation steps in an “evaluation graph” - simply a graphical representation of the computation elements with edges and notes (similar to a control loop diagram). \n",
    "\n",
    "### Elementary Functions\n",
    "Finally, through each step you evaluate both the trace in terms of the input variable and also compute the derivative using the chain rule. At the end of this process, the final xi trace now is assigned both a value and a derivative that is simply composed of elemental function that are easy for a computer to evaluate. \n",
    "\n",
    "To give some concrete examples, the key elementary arithmetic operations include: addition, subtraction, multiplication, division, etc... and the key elementary functions include: exp, log, sin, cos, etc...\n"
   ]
  },
  {
   "cell_type": "markdown",
   "metadata": {},
   "source": [
    "## How to Use KeyDifferentiator"
   ]
  },
  {
   "cell_type": "markdown",
   "metadata": {
    "collapsed": true
   },
   "source": [
    "### Installation\n",
    "To install the KeyDifferentiator automatic differentiation package, the user should run:\n",
    "```\n",
    "pip install KeyDifferentiator\n",
    "```\n",
    "Alternatively, the user could download and run the package using the source files on GitHub. Simply run:\n",
    "```\n",
    "git clone git@github.com:Key-Differentiators/cs207-FinalProject.git\n",
    "cd Key-Differentiators\n",
    "python setup.py\n",
    "```"
   ]
  },
  {
   "cell_type": "markdown",
   "metadata": {},
   "source": [
    "### Getting Started\n",
    "\n",
    "The package takes input in the form of a function, and returns the derivative of that function. The user can then evaluate the derivative at a point, or choose to take additional derivatives.\n",
    "\n",
    "Our package provides an interpreter that takes in intuitively-written functions. To use the extended version in a program, the user should import it, instantiate an `easy_AD` object, and then call the `diff` method to get the derivative. \n",
    "\n",
    "The `diff()` method returns a method that takes a value, and then evaluates the derivative at that value.\n",
    "\n",
    "```\n",
    "from AD import AD\n",
    "from easyAD import easy_AD\n",
    "\n",
    "f = 'x^2 + 5'\n",
    "f_prime = easy_AD.diff(f)\n",
    "f_prime(4)  // evaluates to 8\n",
    "\n",
    "f_prime2 = easy_AD.diff(f_prime)\n",
    "f_prime2(4)   // evaluates to 2\n",
    "```"
   ]
  },
  {
   "cell_type": "markdown",
   "metadata": {},
   "source": [
    "## Software Organization"
   ]
  },
  {
   "cell_type": "markdown",
   "metadata": {},
   "source": [
    "### Directory Structure\n",
    "\n",
    "Our directory structure is outlined below. \n",
    "\n",
    "Our **AD code** will all live in the `/AD/AD.py` module. This will include overwritten operations and their right-hand forms (e.g. `__add__` and `__radd__`) as well as additional elementary operations (e.g. `sin`).\n",
    "\n",
    "Our **tests** will all live in `/test/test.py`. We will use `pytest` and `CodeCov` to implement testing, and `Travis CI` to monitor build status. Our goal for code coverage is to hit over 90%. \n",
    "\n",
    "Our **interpreter** (our project extension) will live in the `/easyAD` directory as `easyAD.py`. \n",
    "\n",
    "We will distribute our code using PyPi."
   ]
  },
  {
   "cell_type": "markdown",
   "metadata": {},
   "source": [
    "```\n",
    "/cs207-FinalProject\n",
    "\tREADME.md\n",
    "\tLICENSE\n",
    "\tsetup.py\n",
    "    /docs\n",
    "        milestone1.ipynb\n",
    "        README.md\n",
    "    /AD\n",
    "        __init__.py\n",
    "        AD.py\n",
    "    /easyAD\n",
    "        __init__.py\n",
    "        easyAD.py\n",
    "    /test\n",
    "        test.py\n",
    "    /demo\n",
    "        demo.py```"
   ]
  },
  {
   "cell_type": "markdown",
   "metadata": {},
   "source": [
    "## Implementation"
   ]
  },
  {
   "cell_type": "markdown",
   "metadata": {},
   "source": [
    "### Under the Hood\n",
    "To implement the forward mode of automatic differentiation, we will create a main class called `AD`. The class will be initiated with two attributes: `val` (for value) and `der` (for derivative), while `val` is required and `der` is optional.\n",
    "```\n",
    "class AD():\n",
    "\tdef __init__(val, der=1):\n",
    "\t\tself.val = val\n",
    "\t\tself.der = der\n",
    "```"
   ]
  },
  {
   "cell_type": "markdown",
   "metadata": {},
   "source": [
    "Standard dunder methods will be re-written within the class: `__add__`, `__radd__`, `__mul__`, `__rmul__`, `__pow__`, `__sub__`, `__rsub__`, `__truediv__`, `__abs__`.\n",
    "\n",
    "Other elementary functions, like `sin, cos, sqrt, log,` and `exp`, will also be implemented within the AD class for user to use.\n",
    "\n",
    "Our only external dependency is the `numpy` library."
   ]
  },
  {
   "cell_type": "markdown",
   "metadata": {},
   "source": [
    "### User perspective\n",
    "\n",
    "While it is possible to interact directly with the `AD` library, the user should only ever have to interact with the `easyAD` module, which in turn calls the `AD` module.\n",
    "\n",
    "The user will only ever need one function: `diff()`, which will take a string representation of a function to differentiate.\n",
    "\n",
    "The `easyAD` module will parse the string into an `AD` object, and then call methods in the `AD` module to get the `val` and `der` of the object."
   ]
  },
  {
   "cell_type": "code",
   "execution_count": null,
   "metadata": {
    "collapsed": true
   },
   "outputs": [],
   "source": []
  }
 ],
 "metadata": {
  "kernelspec": {
   "display_name": "Python 3",
   "language": "python",
   "name": "python3"
  },
  "language_info": {
   "codemirror_mode": {
    "name": "ipython",
    "version": 3
   },
   "file_extension": ".py",
   "mimetype": "text/x-python",
   "name": "python",
   "nbconvert_exporter": "python",
   "pygments_lexer": "ipython3",
   "version": "3.6.3"
  }
 },
 "nbformat": 4,
 "nbformat_minor": 2
}
